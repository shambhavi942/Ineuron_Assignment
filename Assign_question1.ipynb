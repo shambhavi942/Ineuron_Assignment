{
 "cells": [
  {
   "cell_type": "code",
   "execution_count": 8,
   "id": "04a94b4a",
   "metadata": {},
   "outputs": [],
   "source": [
    "file_name =\"example.txt\"\n",
    "def replace_string(first,second):\n",
    "        #read in the file\n",
    "        with open(file_name,'r') as file:\n",
    "            filedata =file.read()\n",
    "    \n",
    "        #replace the target string \n",
    "\n",
    "        filedata = filedata.replace(first,second)\n",
    "\n",
    "        #write the file out again\n",
    "\n",
    "        with open(file_name,'w') as file:\n",
    "            file.write(filedata)\n",
    "        \n",
    "rep = replace_string(\"placement\",\"screening\")\n",
    "    \n"
   ]
  },
  {
   "cell_type": "code",
   "execution_count": null,
   "id": "d3d7257f",
   "metadata": {},
   "outputs": [],
   "source": []
  },
  {
   "cell_type": "code",
   "execution_count": null,
   "id": "93438f9b",
   "metadata": {},
   "outputs": [],
   "source": []
  }
 ],
 "metadata": {
  "kernelspec": {
   "display_name": "Python 3 (ipykernel)",
   "language": "python",
   "name": "python3"
  },
  "language_info": {
   "codemirror_mode": {
    "name": "ipython",
    "version": 3
   },
   "file_extension": ".py",
   "mimetype": "text/x-python",
   "name": "python",
   "nbconvert_exporter": "python",
   "pygments_lexer": "ipython3",
   "version": "3.9.12"
  }
 },
 "nbformat": 4,
 "nbformat_minor": 5
}
