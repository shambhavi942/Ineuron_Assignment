{
 "cells": [
  {
   "cell_type": "code",
   "execution_count": 1,
   "id": "fee81e71",
   "metadata": {},
   "outputs": [],
   "source": [
    "def smart_divide(func):\n",
    "    def inner(a,b):\n",
    "        print(\"Dividing\", a, \"by\",b)\n",
    "        if b==0:\n",
    "            print(\"Cannot divide by zero !\")\n",
    "            return\n",
    "        return func(a,b)\n",
    "    return inner\n"
   ]
  },
  {
   "cell_type": "code",
   "execution_count": 2,
   "id": "b81f1ae0",
   "metadata": {},
   "outputs": [],
   "source": [
    "@smart_divide\n",
    "def divide(a,b):\n",
    "    return a/b\n"
   ]
  },
  {
   "cell_type": "code",
   "execution_count": 3,
   "id": "dee42202",
   "metadata": {},
   "outputs": [
    {
     "name": "stdout",
     "output_type": "stream",
     "text": [
      "Dividing 10 by 2\n",
      "5.0\n",
      "Dividing 5 by 0\n",
      "Cannot divide by zero !\n",
      "None\n"
     ]
    }
   ],
   "source": [
    "value1=divide(10,2)\n",
    "print(value1)\n",
    "value2=divide(5,0)\n",
    "print(value2)"
   ]
  }
 ],
 "metadata": {
  "kernelspec": {
   "display_name": "Python 3 (ipykernel)",
   "language": "python",
   "name": "python3"
  },
  "language_info": {
   "codemirror_mode": {
    "name": "ipython",
    "version": 3
   },
   "file_extension": ".py",
   "mimetype": "text/x-python",
   "name": "python",
   "nbconvert_exporter": "python",
   "pygments_lexer": "ipython3",
   "version": "3.9.12"
  }
 },
 "nbformat": 4,
 "nbformat_minor": 5
}
