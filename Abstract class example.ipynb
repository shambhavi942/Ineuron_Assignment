{
 "cells": [
  {
   "cell_type": "code",
   "execution_count": 1,
   "id": "2fc6e4fa",
   "metadata": {},
   "outputs": [
    {
     "name": "stdout",
     "output_type": "stream",
     "text": [
      "42\n"
     ]
    }
   ],
   "source": [
    "from abc import ABC, abstractmethod\n",
    "class Shape(ABC):\n",
    "    @abstractmethod\n",
    "    def printarea(self):\n",
    "        return 0\n",
    "    \n",
    "class Rectangle(Shape):\n",
    "    type ='Rectangle'\n",
    "    sides = 4\n",
    "    def __init__(self):\n",
    "        self.length=6\n",
    "        self.breadth=7\n",
    "        \n",
    "    def printarea(self):\n",
    "        return self.length*self.breadth\n",
    "    \n",
    "rect1 = Rectangle()\n",
    "print(rect1.printarea())"
   ]
  },
  {
   "cell_type": "code",
   "execution_count": null,
   "id": "7f8d8bef",
   "metadata": {},
   "outputs": [],
   "source": []
  }
 ],
 "metadata": {
  "kernelspec": {
   "display_name": "Python 3 (ipykernel)",
   "language": "python",
   "name": "python3"
  },
  "language_info": {
   "codemirror_mode": {
    "name": "ipython",
    "version": 3
   },
   "file_extension": ".py",
   "mimetype": "text/x-python",
   "name": "python",
   "nbconvert_exporter": "python",
   "pygments_lexer": "ipython3",
   "version": "3.9.12"
  }
 },
 "nbformat": 4,
 "nbformat_minor": 5
}
