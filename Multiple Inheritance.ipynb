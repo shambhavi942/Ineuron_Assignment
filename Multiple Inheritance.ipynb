{
 "cells": [
  {
   "cell_type": "code",
   "execution_count": 1,
   "id": "1a66cd89",
   "metadata": {},
   "outputs": [
    {
     "name": "stdout",
     "output_type": "stream",
     "text": [
      "Mother enjoys driving\n",
      "Father enjoys working\n",
      "Child loves playing\n"
     ]
    }
   ],
   "source": [
    "class Father():\n",
    "    def Work(self):\n",
    "        print(\"Father enjoys working\")\n",
    "        \n",
    "class Mother():\n",
    "    def Driving(self):\n",
    "        print(\"Mother enjoys driving\")\n",
    "        \n",
    "class Child(Father,Mother):\n",
    "    def Playing(self):\n",
    "        print(\"Child loves playing\")\n",
    "        \n",
    "c = Child()\n",
    "c.Driving()\n",
    "c.Work()\n",
    "c.Playing()"
   ]
  },
  {
   "cell_type": "code",
   "execution_count": null,
   "id": "03665b57",
   "metadata": {},
   "outputs": [],
   "source": []
  }
 ],
 "metadata": {
  "kernelspec": {
   "display_name": "Python 3 (ipykernel)",
   "language": "python",
   "name": "python3"
  },
  "language_info": {
   "codemirror_mode": {
    "name": "ipython",
    "version": 3
   },
   "file_extension": ".py",
   "mimetype": "text/x-python",
   "name": "python",
   "nbconvert_exporter": "python",
   "pygments_lexer": "ipython3",
   "version": "3.9.12"
  }
 },
 "nbformat": 4,
 "nbformat_minor": 5
}
